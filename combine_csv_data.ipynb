{
  "nbformat": 4,
  "nbformat_minor": 0,
  "metadata": {
    "colab": {
      "provenance": [],
      "authorship_tag": "ABX9TyNPInUYplRRGzmmhhnO2qK4",
      "include_colab_link": true
    },
    "kernelspec": {
      "name": "python3",
      "display_name": "Python 3"
    },
    "language_info": {
      "name": "python"
    }
  },
  "cells": [
    {
      "cell_type": "markdown",
      "metadata": {
        "id": "view-in-github",
        "colab_type": "text"
      },
      "source": [
        "<a href=\"https://colab.research.google.com/github/sausis20/Youtube-Trending-Scraper-and-EDA/blob/main/combine_csv_data.ipynb\" target=\"_parent\"><img src=\"https://colab.research.google.com/assets/colab-badge.svg\" alt=\"Open In Colab\"/></a>"
      ]
    },
    {
      "cell_type": "code",
      "execution_count": null,
      "metadata": {
        "colab": {
          "base_uri": "https://localhost:8080/"
        },
        "id": "oPH9_FghbT2K",
        "outputId": "8642b5e9-4afe-46e4-d4e4-a613c5e0e04e"
      },
      "outputs": [
        {
          "output_type": "stream",
          "name": "stdout",
          "text": [
            "Mounted at /content/gdrive\n"
          ]
        }
      ],
      "source": [
        "from google.colab import drive\n",
        "drive.mount('/content/gdrive')"
      ]
    },
    {
      "cell_type": "code",
      "source": [
        "import os\n",
        "import glob\n",
        "import pandas as pd\n",
        "import requests"
      ],
      "metadata": {
        "id": "iBu7TXnubloe"
      },
      "execution_count": null,
      "outputs": []
    },
    {
      "cell_type": "code",
      "source": [
        "os.chdir(\"/content/gdrive/My Drive/Colab Notebooks/YouTube Trending Scraper/output/\")"
      ],
      "metadata": {
        "id": "LAQ_L9ZGfy3b"
      },
      "execution_count": null,
      "outputs": []
    },
    {
      "cell_type": "code",
      "source": [
        "extension = 'csv'\n",
        "\n",
        "#combine all LT files in the list\n",
        "all_filenames = [i for i in glob.glob('*LT*.csv'.format(extension))]\n",
        "df_combinedLT = pd.concat([pd.read_csv(f) for f in all_filenames ])\n",
        "\n",
        "#combine all LV files in the list\n",
        "all_filenames = [i for i in glob.glob('*LV*.csv'.format(extension))]\n",
        "df_combinedLV = pd.concat([pd.read_csv(f) for f in all_filenames ])\n",
        "\n",
        "#combine all EE files in the list\n",
        "all_filenames = [i for i in glob.glob('*EE*.csv'.format(extension))]\n",
        "df_combinedEE = pd.concat([pd.read_csv(f) for f in all_filenames ])"
      ],
      "metadata": {
        "id": "hlM8qHW4iSiE"
      },
      "execution_count": null,
      "outputs": []
    },
    {
      "cell_type": "code",
      "source": [
        "cd '/content/gdrive/My Drive/Colab Notebooks/YouTube Trending Scraper/'"
      ],
      "metadata": {
        "colab": {
          "base_uri": "https://localhost:8080/"
        },
        "id": "u7arRJJFqLGz",
        "outputId": "72537913-e528-4424-eba3-9dd9210c269e"
      },
      "execution_count": null,
      "outputs": [
        {
          "output_type": "stream",
          "name": "stdout",
          "text": [
            "/content/gdrive/My Drive/Colab Notebooks/YouTube Trending Scraper\n"
          ]
        }
      ]
    },
    {
      "cell_type": "code",
      "source": [
        "with open('api_key.txt', 'r') as file:\n",
        "    api_key = file.readline()"
      ],
      "metadata": {
        "id": "C7zTknIrqEhS"
      },
      "execution_count": null,
      "outputs": []
    },
    {
      "cell_type": "code",
      "source": [
        "#video categories for LT\n",
        "video_categories_LT = requests.get(f'https://www.googleapis.com/youtube/v3/videoCategories?part=snippet&regionCode=LT&key={api_key}').json()\n",
        "df_LT_cat = pd.json_normalize(video_categories_LT['items'])[['id','snippet.title']]\n",
        "\n",
        "#video categories for LV\n",
        "video_categories_LV = requests.get(f'https://www.googleapis.com/youtube/v3/videoCategories?part=snippet&regionCode=LV&key={api_key}').json()\n",
        "df_LV_cat = pd.json_normalize(video_categories_LV['items'])[['id','snippet.title']]\n",
        "\n",
        "#video categories for EE\n",
        "video_categories_EE = requests.get(f'https://www.googleapis.com/youtube/v3/videoCategories?part=snippet&regionCode=EE&key={api_key}').json()\n",
        "df_EE_cat = pd.json_normalize(video_categories_EE['items'])[['id','snippet.title']]"
      ],
      "metadata": {
        "id": "eL9mgBMNkXTl"
      },
      "execution_count": null,
      "outputs": []
    },
    {
      "cell_type": "code",
      "source": [
        "df_LT_cat.head(5)"
      ],
      "metadata": {
        "colab": {
          "base_uri": "https://localhost:8080/",
          "height": 206
        },
        "id": "NNYsfP18v4b9",
        "outputId": "ad1f2cd8-042c-4000-bf5f-9db53d97f0a0"
      },
      "execution_count": null,
      "outputs": [
        {
          "output_type": "execute_result",
          "data": {
            "text/plain": [
              "   id     snippet.title\n",
              "0   1  Film & Animation\n",
              "1   2  Autos & Vehicles\n",
              "2  10             Music\n",
              "3  15    Pets & Animals\n",
              "4  17            Sports"
            ],
            "text/html": [
              "\n",
              "  <div id=\"df-c37204c7-838e-4931-8f81-12851302eacd\">\n",
              "    <div class=\"colab-df-container\">\n",
              "      <div>\n",
              "<style scoped>\n",
              "    .dataframe tbody tr th:only-of-type {\n",
              "        vertical-align: middle;\n",
              "    }\n",
              "\n",
              "    .dataframe tbody tr th {\n",
              "        vertical-align: top;\n",
              "    }\n",
              "\n",
              "    .dataframe thead th {\n",
              "        text-align: right;\n",
              "    }\n",
              "</style>\n",
              "<table border=\"1\" class=\"dataframe\">\n",
              "  <thead>\n",
              "    <tr style=\"text-align: right;\">\n",
              "      <th></th>\n",
              "      <th>id</th>\n",
              "      <th>snippet.title</th>\n",
              "    </tr>\n",
              "  </thead>\n",
              "  <tbody>\n",
              "    <tr>\n",
              "      <th>0</th>\n",
              "      <td>1</td>\n",
              "      <td>Film &amp; Animation</td>\n",
              "    </tr>\n",
              "    <tr>\n",
              "      <th>1</th>\n",
              "      <td>2</td>\n",
              "      <td>Autos &amp; Vehicles</td>\n",
              "    </tr>\n",
              "    <tr>\n",
              "      <th>2</th>\n",
              "      <td>10</td>\n",
              "      <td>Music</td>\n",
              "    </tr>\n",
              "    <tr>\n",
              "      <th>3</th>\n",
              "      <td>15</td>\n",
              "      <td>Pets &amp; Animals</td>\n",
              "    </tr>\n",
              "    <tr>\n",
              "      <th>4</th>\n",
              "      <td>17</td>\n",
              "      <td>Sports</td>\n",
              "    </tr>\n",
              "  </tbody>\n",
              "</table>\n",
              "</div>\n",
              "      <button class=\"colab-df-convert\" onclick=\"convertToInteractive('df-c37204c7-838e-4931-8f81-12851302eacd')\"\n",
              "              title=\"Convert this dataframe to an interactive table.\"\n",
              "              style=\"display:none;\">\n",
              "        \n",
              "  <svg xmlns=\"http://www.w3.org/2000/svg\" height=\"24px\"viewBox=\"0 0 24 24\"\n",
              "       width=\"24px\">\n",
              "    <path d=\"M0 0h24v24H0V0z\" fill=\"none\"/>\n",
              "    <path d=\"M18.56 5.44l.94 2.06.94-2.06 2.06-.94-2.06-.94-.94-2.06-.94 2.06-2.06.94zm-11 1L8.5 8.5l.94-2.06 2.06-.94-2.06-.94L8.5 2.5l-.94 2.06-2.06.94zm10 10l.94 2.06.94-2.06 2.06-.94-2.06-.94-.94-2.06-.94 2.06-2.06.94z\"/><path d=\"M17.41 7.96l-1.37-1.37c-.4-.4-.92-.59-1.43-.59-.52 0-1.04.2-1.43.59L10.3 9.45l-7.72 7.72c-.78.78-.78 2.05 0 2.83L4 21.41c.39.39.9.59 1.41.59.51 0 1.02-.2 1.41-.59l7.78-7.78 2.81-2.81c.8-.78.8-2.07 0-2.86zM5.41 20L4 18.59l7.72-7.72 1.47 1.35L5.41 20z\"/>\n",
              "  </svg>\n",
              "      </button>\n",
              "      \n",
              "  <style>\n",
              "    .colab-df-container {\n",
              "      display:flex;\n",
              "      flex-wrap:wrap;\n",
              "      gap: 12px;\n",
              "    }\n",
              "\n",
              "    .colab-df-convert {\n",
              "      background-color: #E8F0FE;\n",
              "      border: none;\n",
              "      border-radius: 50%;\n",
              "      cursor: pointer;\n",
              "      display: none;\n",
              "      fill: #1967D2;\n",
              "      height: 32px;\n",
              "      padding: 0 0 0 0;\n",
              "      width: 32px;\n",
              "    }\n",
              "\n",
              "    .colab-df-convert:hover {\n",
              "      background-color: #E2EBFA;\n",
              "      box-shadow: 0px 1px 2px rgba(60, 64, 67, 0.3), 0px 1px 3px 1px rgba(60, 64, 67, 0.15);\n",
              "      fill: #174EA6;\n",
              "    }\n",
              "\n",
              "    [theme=dark] .colab-df-convert {\n",
              "      background-color: #3B4455;\n",
              "      fill: #D2E3FC;\n",
              "    }\n",
              "\n",
              "    [theme=dark] .colab-df-convert:hover {\n",
              "      background-color: #434B5C;\n",
              "      box-shadow: 0px 1px 3px 1px rgba(0, 0, 0, 0.15);\n",
              "      filter: drop-shadow(0px 1px 2px rgba(0, 0, 0, 0.3));\n",
              "      fill: #FFFFFF;\n",
              "    }\n",
              "  </style>\n",
              "\n",
              "      <script>\n",
              "        const buttonEl =\n",
              "          document.querySelector('#df-c37204c7-838e-4931-8f81-12851302eacd button.colab-df-convert');\n",
              "        buttonEl.style.display =\n",
              "          google.colab.kernel.accessAllowed ? 'block' : 'none';\n",
              "\n",
              "        async function convertToInteractive(key) {\n",
              "          const element = document.querySelector('#df-c37204c7-838e-4931-8f81-12851302eacd');\n",
              "          const dataTable =\n",
              "            await google.colab.kernel.invokeFunction('convertToInteractive',\n",
              "                                                     [key], {});\n",
              "          if (!dataTable) return;\n",
              "\n",
              "          const docLinkHtml = 'Like what you see? Visit the ' +\n",
              "            '<a target=\"_blank\" href=https://colab.research.google.com/notebooks/data_table.ipynb>data table notebook</a>'\n",
              "            + ' to learn more about interactive tables.';\n",
              "          element.innerHTML = '';\n",
              "          dataTable['output_type'] = 'display_data';\n",
              "          await google.colab.output.renderOutput(dataTable, element);\n",
              "          const docLink = document.createElement('div');\n",
              "          docLink.innerHTML = docLinkHtml;\n",
              "          element.appendChild(docLink);\n",
              "        }\n",
              "      </script>\n",
              "    </div>\n",
              "  </div>\n",
              "  "
            ]
          },
          "metadata": {},
          "execution_count": 115
        }
      ]
    },
    {
      "cell_type": "code",
      "source": [
        "#show differences between dataframes\n",
        "print(df_LT_cat.compare(df_LV_cat))\n",
        "print()\n",
        "print(df_LT_cat.compare(df_EE_cat))\n",
        "\n",
        "#This shows that all Baltic countries have the same Youtube video categories"
      ],
      "metadata": {
        "colab": {
          "base_uri": "https://localhost:8080/"
        },
        "id": "SHXtQm-Kuuzs",
        "outputId": "9725047b-45c5-49e6-a6c1-9c3eccd53365"
      },
      "execution_count": null,
      "outputs": [
        {
          "output_type": "stream",
          "name": "stdout",
          "text": [
            "Empty DataFrame\n",
            "Columns: []\n",
            "Index: []\n",
            "\n",
            "Empty DataFrame\n",
            "Columns: []\n",
            "Index: []\n"
          ]
        }
      ]
    },
    {
      "cell_type": "code",
      "source": [
        "#change category data type and rename columns to more informative names\n",
        "print(df_LT_cat.dtypes)\n",
        "df_LT_cat['id']=df_LT_cat['id'].astype(int)\n",
        "\n",
        "df_LT_cat = df_LT_cat.rename(columns={\"id\": \"categoryId\", \"snippet.title\": \"Video Category\"})"
      ],
      "metadata": {
        "colab": {
          "base_uri": "https://localhost:8080/"
        },
        "id": "Najbz1QxzrGU",
        "outputId": "31958199-060e-42de-f215-82d236c5c9d3"
      },
      "execution_count": null,
      "outputs": [
        {
          "output_type": "stream",
          "name": "stdout",
          "text": [
            "id               object\n",
            "snippet.title    object\n",
            "dtype: object\n"
          ]
        }
      ]
    },
    {
      "cell_type": "code",
      "source": [
        "df_LT = df_combinedLT.merge(df_LT_cat, on='categoryId', how='left')\n",
        "df_LT['Country'] = 'LT'\n",
        "\n",
        "df_LV = df_combinedLV.merge(df_LT_cat, on='categoryId', how='left')\n",
        "df_LV['Country'] = 'LV'\n",
        "\n",
        "df_EE = df_combinedEE.merge(df_LT_cat, on='categoryId', how='left')\n",
        "df_EE['Country'] = 'EE'"
      ],
      "metadata": {
        "id": "T7ibGVDEvvSw"
      },
      "execution_count": null,
      "outputs": []
    },
    {
      "cell_type": "code",
      "source": [
        "print(df_LT.shape, df_LV.shape, df_EE.shape)"
      ],
      "metadata": {
        "colab": {
          "base_uri": "https://localhost:8080/"
        },
        "id": "NhzHcazA0Bnu",
        "outputId": "ad084cd1-f6f5-467d-d8e8-d2c7e8a8b54d"
      },
      "execution_count": null,
      "outputs": [
        {
          "output_type": "stream",
          "name": "stdout",
          "text": [
            "(3800, 18) (3800, 18) (3800, 18)\n"
          ]
        }
      ]
    },
    {
      "cell_type": "code",
      "source": [
        "df = pd.concat([df_LT, df_LV, df_EE])"
      ],
      "metadata": {
        "id": "DyzgrkHNlwYk"
      },
      "execution_count": null,
      "outputs": []
    },
    {
      "cell_type": "code",
      "source": [
        "df.shape"
      ],
      "metadata": {
        "colab": {
          "base_uri": "https://localhost:8080/"
        },
        "id": "MQ01F7Pxl9hL",
        "outputId": "d718717b-0e77-4889-a35b-ad9521579dc9"
      },
      "execution_count": null,
      "outputs": [
        {
          "output_type": "execute_result",
          "data": {
            "text/plain": [
              "(11400, 12)"
            ]
          },
          "metadata": {},
          "execution_count": 139
        }
      ]
    },
    {
      "cell_type": "code",
      "source": [
        "df.head()"
      ],
      "metadata": {
        "colab": {
          "base_uri": "https://localhost:8080/",
          "height": 511
        },
        "id": "Rmh_yzCd2IJU",
        "outputId": "20f8d859-2126-43b3-ca84-af6fddfbf4f8"
      },
      "execution_count": null,
      "outputs": [
        {
          "output_type": "execute_result",
          "data": {
            "text/plain": [
              "      video_id                                              title  \\\n",
              "0  H8uGi4ZMgHA                           Vaidas Baumila - Apžavai   \n",
              "1  0uAIEVI__iE  Nepatogūs klausimai. Svečiuose – Iglė Bernotai...   \n",
              "2  S4aTIcbeXlg  QUARTER-FINALS: France v Lithuania | Full Bask...   \n",
              "3  4iRRvN23F08  Monique - Palauksiu kol užmigsi (Vertical Musi...   \n",
              "4  _y2krec8POo  День сто сорок восьмой. Беседа с @Alexey Arest...   \n",
              "\n",
              "            publishedAt                 channelId  \\\n",
              "0  2022-07-20T05:00:12Z  UCVmP73OeV2pCzBW6lita6gA   \n",
              "1  2022-07-17T16:00:19Z  UCvEFtIm2D5ePEBbKaAyvZ2w   \n",
              "2  2022-07-21T18:48:21Z  UCtInrnU3QbWqFGsdKT1GZtg   \n",
              "3  2022-07-15T06:00:11Z  UCCHySUOeQDI9BCEOSk1hKTQ   \n",
              "4  2022-07-21T19:44:50Z  UCQVtD_N4OeD-9PshBq7NwyQ   \n",
              "\n",
              "                    channelTitle  categoryId trending_date  \\\n",
              "0                 Vaidas Baumila          10      22.22.07   \n",
              "1                          Delfi          25      22.22.07   \n",
              "2  FIBA - The Basketball Channel          17      22.22.07   \n",
              "3                        Monique          10      22.22.07   \n",
              "4                    ФЕЙГИН LIVE          25      22.22.07   \n",
              "\n",
              "                                                tags  view_count  likes  \\\n",
              "0  Vaidas Baumila|kunigunda|apžavai|apzavai|tavo ...      121809      0   \n",
              "1  delfi|delfitv|laida|nepatogus klausimai|igle|i...      126097      0   \n",
              "2  21.07.2022|21/07/2022|FIBA|FIBA U20 European C...      124261      0   \n",
              "3                                             [none]      125700      0   \n",
              "4  фейгин live|фейгин лайф|марк фейгин|mark feygi...     1436550      0   \n",
              "\n",
              "   dislikes  comment_count                                  thumbnail_link  \\\n",
              "0         0            118  https://i.ytimg.com/vi/H8uGi4ZMgHA/default.jpg   \n",
              "1         0            129  https://i.ytimg.com/vi/0uAIEVI__iE/default.jpg   \n",
              "2         0             14  https://i.ytimg.com/vi/S4aTIcbeXlg/default.jpg   \n",
              "3         0             95  https://i.ytimg.com/vi/4iRRvN23F08/default.jpg   \n",
              "4         0           2943  https://i.ytimg.com/vi/_y2krec8POo/default.jpg   \n",
              "\n",
              "   comments_disabled  ratings_disabled  \\\n",
              "0              False              True   \n",
              "1              False              True   \n",
              "2              False              True   \n",
              "3              False              True   \n",
              "4              False              True   \n",
              "\n",
              "                                         description   Video Category Country  \n",
              "0  Vaidas Baumila - Apžavai Muzika ir tekstas -  ...            Music      LT  \n",
              "1  Iglė Bernotaitytė išgarsėjo prieš penkerius me...  News & Politics      LT  \n",
              "2  Watch the Quarter-Finals game between France a...           Sports      LT  \n",
              "3  Koncertas su orkestru - https://www.bilietai.l...            Music      LT  \n",
              "4  #Фейгин #ФейгинLIVE День сто сорок восьмой. Бе...  News & Politics      LT  "
            ],
            "text/html": [
              "\n",
              "  <div id=\"df-7316ce28-df31-4f7c-959e-3ab4222ab978\">\n",
              "    <div class=\"colab-df-container\">\n",
              "      <div>\n",
              "<style scoped>\n",
              "    .dataframe tbody tr th:only-of-type {\n",
              "        vertical-align: middle;\n",
              "    }\n",
              "\n",
              "    .dataframe tbody tr th {\n",
              "        vertical-align: top;\n",
              "    }\n",
              "\n",
              "    .dataframe thead th {\n",
              "        text-align: right;\n",
              "    }\n",
              "</style>\n",
              "<table border=\"1\" class=\"dataframe\">\n",
              "  <thead>\n",
              "    <tr style=\"text-align: right;\">\n",
              "      <th></th>\n",
              "      <th>video_id</th>\n",
              "      <th>title</th>\n",
              "      <th>publishedAt</th>\n",
              "      <th>channelId</th>\n",
              "      <th>channelTitle</th>\n",
              "      <th>categoryId</th>\n",
              "      <th>trending_date</th>\n",
              "      <th>tags</th>\n",
              "      <th>view_count</th>\n",
              "      <th>likes</th>\n",
              "      <th>dislikes</th>\n",
              "      <th>comment_count</th>\n",
              "      <th>thumbnail_link</th>\n",
              "      <th>comments_disabled</th>\n",
              "      <th>ratings_disabled</th>\n",
              "      <th>description</th>\n",
              "      <th>Video Category</th>\n",
              "      <th>Country</th>\n",
              "    </tr>\n",
              "  </thead>\n",
              "  <tbody>\n",
              "    <tr>\n",
              "      <th>0</th>\n",
              "      <td>H8uGi4ZMgHA</td>\n",
              "      <td>Vaidas Baumila - Apžavai</td>\n",
              "      <td>2022-07-20T05:00:12Z</td>\n",
              "      <td>UCVmP73OeV2pCzBW6lita6gA</td>\n",
              "      <td>Vaidas Baumila</td>\n",
              "      <td>10</td>\n",
              "      <td>22.22.07</td>\n",
              "      <td>Vaidas Baumila|kunigunda|apžavai|apzavai|tavo ...</td>\n",
              "      <td>121809</td>\n",
              "      <td>0</td>\n",
              "      <td>0</td>\n",
              "      <td>118</td>\n",
              "      <td>https://i.ytimg.com/vi/H8uGi4ZMgHA/default.jpg</td>\n",
              "      <td>False</td>\n",
              "      <td>True</td>\n",
              "      <td>Vaidas Baumila - Apžavai Muzika ir tekstas -  ...</td>\n",
              "      <td>Music</td>\n",
              "      <td>LT</td>\n",
              "    </tr>\n",
              "    <tr>\n",
              "      <th>1</th>\n",
              "      <td>0uAIEVI__iE</td>\n",
              "      <td>Nepatogūs klausimai. Svečiuose – Iglė Bernotai...</td>\n",
              "      <td>2022-07-17T16:00:19Z</td>\n",
              "      <td>UCvEFtIm2D5ePEBbKaAyvZ2w</td>\n",
              "      <td>Delfi</td>\n",
              "      <td>25</td>\n",
              "      <td>22.22.07</td>\n",
              "      <td>delfi|delfitv|laida|nepatogus klausimai|igle|i...</td>\n",
              "      <td>126097</td>\n",
              "      <td>0</td>\n",
              "      <td>0</td>\n",
              "      <td>129</td>\n",
              "      <td>https://i.ytimg.com/vi/0uAIEVI__iE/default.jpg</td>\n",
              "      <td>False</td>\n",
              "      <td>True</td>\n",
              "      <td>Iglė Bernotaitytė išgarsėjo prieš penkerius me...</td>\n",
              "      <td>News &amp; Politics</td>\n",
              "      <td>LT</td>\n",
              "    </tr>\n",
              "    <tr>\n",
              "      <th>2</th>\n",
              "      <td>S4aTIcbeXlg</td>\n",
              "      <td>QUARTER-FINALS: France v Lithuania | Full Bask...</td>\n",
              "      <td>2022-07-21T18:48:21Z</td>\n",
              "      <td>UCtInrnU3QbWqFGsdKT1GZtg</td>\n",
              "      <td>FIBA - The Basketball Channel</td>\n",
              "      <td>17</td>\n",
              "      <td>22.22.07</td>\n",
              "      <td>21.07.2022|21/07/2022|FIBA|FIBA U20 European C...</td>\n",
              "      <td>124261</td>\n",
              "      <td>0</td>\n",
              "      <td>0</td>\n",
              "      <td>14</td>\n",
              "      <td>https://i.ytimg.com/vi/S4aTIcbeXlg/default.jpg</td>\n",
              "      <td>False</td>\n",
              "      <td>True</td>\n",
              "      <td>Watch the Quarter-Finals game between France a...</td>\n",
              "      <td>Sports</td>\n",
              "      <td>LT</td>\n",
              "    </tr>\n",
              "    <tr>\n",
              "      <th>3</th>\n",
              "      <td>4iRRvN23F08</td>\n",
              "      <td>Monique - Palauksiu kol užmigsi (Vertical Musi...</td>\n",
              "      <td>2022-07-15T06:00:11Z</td>\n",
              "      <td>UCCHySUOeQDI9BCEOSk1hKTQ</td>\n",
              "      <td>Monique</td>\n",
              "      <td>10</td>\n",
              "      <td>22.22.07</td>\n",
              "      <td>[none]</td>\n",
              "      <td>125700</td>\n",
              "      <td>0</td>\n",
              "      <td>0</td>\n",
              "      <td>95</td>\n",
              "      <td>https://i.ytimg.com/vi/4iRRvN23F08/default.jpg</td>\n",
              "      <td>False</td>\n",
              "      <td>True</td>\n",
              "      <td>Koncertas su orkestru - https://www.bilietai.l...</td>\n",
              "      <td>Music</td>\n",
              "      <td>LT</td>\n",
              "    </tr>\n",
              "    <tr>\n",
              "      <th>4</th>\n",
              "      <td>_y2krec8POo</td>\n",
              "      <td>День сто сорок восьмой. Беседа с @Alexey Arest...</td>\n",
              "      <td>2022-07-21T19:44:50Z</td>\n",
              "      <td>UCQVtD_N4OeD-9PshBq7NwyQ</td>\n",
              "      <td>ФЕЙГИН LIVE</td>\n",
              "      <td>25</td>\n",
              "      <td>22.22.07</td>\n",
              "      <td>фейгин live|фейгин лайф|марк фейгин|mark feygi...</td>\n",
              "      <td>1436550</td>\n",
              "      <td>0</td>\n",
              "      <td>0</td>\n",
              "      <td>2943</td>\n",
              "      <td>https://i.ytimg.com/vi/_y2krec8POo/default.jpg</td>\n",
              "      <td>False</td>\n",
              "      <td>True</td>\n",
              "      <td>#Фейгин #ФейгинLIVE День сто сорок восьмой. Бе...</td>\n",
              "      <td>News &amp; Politics</td>\n",
              "      <td>LT</td>\n",
              "    </tr>\n",
              "  </tbody>\n",
              "</table>\n",
              "</div>\n",
              "      <button class=\"colab-df-convert\" onclick=\"convertToInteractive('df-7316ce28-df31-4f7c-959e-3ab4222ab978')\"\n",
              "              title=\"Convert this dataframe to an interactive table.\"\n",
              "              style=\"display:none;\">\n",
              "        \n",
              "  <svg xmlns=\"http://www.w3.org/2000/svg\" height=\"24px\"viewBox=\"0 0 24 24\"\n",
              "       width=\"24px\">\n",
              "    <path d=\"M0 0h24v24H0V0z\" fill=\"none\"/>\n",
              "    <path d=\"M18.56 5.44l.94 2.06.94-2.06 2.06-.94-2.06-.94-.94-2.06-.94 2.06-2.06.94zm-11 1L8.5 8.5l.94-2.06 2.06-.94-2.06-.94L8.5 2.5l-.94 2.06-2.06.94zm10 10l.94 2.06.94-2.06 2.06-.94-2.06-.94-.94-2.06-.94 2.06-2.06.94z\"/><path d=\"M17.41 7.96l-1.37-1.37c-.4-.4-.92-.59-1.43-.59-.52 0-1.04.2-1.43.59L10.3 9.45l-7.72 7.72c-.78.78-.78 2.05 0 2.83L4 21.41c.39.39.9.59 1.41.59.51 0 1.02-.2 1.41-.59l7.78-7.78 2.81-2.81c.8-.78.8-2.07 0-2.86zM5.41 20L4 18.59l7.72-7.72 1.47 1.35L5.41 20z\"/>\n",
              "  </svg>\n",
              "      </button>\n",
              "      \n",
              "  <style>\n",
              "    .colab-df-container {\n",
              "      display:flex;\n",
              "      flex-wrap:wrap;\n",
              "      gap: 12px;\n",
              "    }\n",
              "\n",
              "    .colab-df-convert {\n",
              "      background-color: #E8F0FE;\n",
              "      border: none;\n",
              "      border-radius: 50%;\n",
              "      cursor: pointer;\n",
              "      display: none;\n",
              "      fill: #1967D2;\n",
              "      height: 32px;\n",
              "      padding: 0 0 0 0;\n",
              "      width: 32px;\n",
              "    }\n",
              "\n",
              "    .colab-df-convert:hover {\n",
              "      background-color: #E2EBFA;\n",
              "      box-shadow: 0px 1px 2px rgba(60, 64, 67, 0.3), 0px 1px 3px 1px rgba(60, 64, 67, 0.15);\n",
              "      fill: #174EA6;\n",
              "    }\n",
              "\n",
              "    [theme=dark] .colab-df-convert {\n",
              "      background-color: #3B4455;\n",
              "      fill: #D2E3FC;\n",
              "    }\n",
              "\n",
              "    [theme=dark] .colab-df-convert:hover {\n",
              "      background-color: #434B5C;\n",
              "      box-shadow: 0px 1px 3px 1px rgba(0, 0, 0, 0.15);\n",
              "      filter: drop-shadow(0px 1px 2px rgba(0, 0, 0, 0.3));\n",
              "      fill: #FFFFFF;\n",
              "    }\n",
              "  </style>\n",
              "\n",
              "      <script>\n",
              "        const buttonEl =\n",
              "          document.querySelector('#df-7316ce28-df31-4f7c-959e-3ab4222ab978 button.colab-df-convert');\n",
              "        buttonEl.style.display =\n",
              "          google.colab.kernel.accessAllowed ? 'block' : 'none';\n",
              "\n",
              "        async function convertToInteractive(key) {\n",
              "          const element = document.querySelector('#df-7316ce28-df31-4f7c-959e-3ab4222ab978');\n",
              "          const dataTable =\n",
              "            await google.colab.kernel.invokeFunction('convertToInteractive',\n",
              "                                                     [key], {});\n",
              "          if (!dataTable) return;\n",
              "\n",
              "          const docLinkHtml = 'Like what you see? Visit the ' +\n",
              "            '<a target=\"_blank\" href=https://colab.research.google.com/notebooks/data_table.ipynb>data table notebook</a>'\n",
              "            + ' to learn more about interactive tables.';\n",
              "          element.innerHTML = '';\n",
              "          dataTable['output_type'] = 'display_data';\n",
              "          await google.colab.output.renderOutput(dataTable, element);\n",
              "          const docLink = document.createElement('div');\n",
              "          docLink.innerHTML = docLinkHtml;\n",
              "          element.appendChild(docLink);\n",
              "        }\n",
              "      </script>\n",
              "    </div>\n",
              "  </div>\n",
              "  "
            ]
          },
          "metadata": {},
          "execution_count": 89
        }
      ]
    },
    {
      "cell_type": "code",
      "source": [
        "df = df.drop(['video_id', 'channelId', 'categoryId', 'tags', 'thumbnail_link', 'description'], axis=1)"
      ],
      "metadata": {
        "id": "CpQQvxvamllT"
      },
      "execution_count": null,
      "outputs": []
    },
    {
      "cell_type": "code",
      "source": [
        "#export to csv\n",
        "df.to_csv(\"Baltics_combined.csv\", index=False, encoding='utf-8-sig')"
      ],
      "metadata": {
        "id": "WqA_f8P42ijS"
      },
      "execution_count": null,
      "outputs": []
    }
  ]
}